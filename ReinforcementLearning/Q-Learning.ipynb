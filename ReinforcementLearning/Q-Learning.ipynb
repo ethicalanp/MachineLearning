{
 "cells": [
  {
   "cell_type": "markdown",
   "id": "14f24200",
   "metadata": {},
   "source": [
    "Q-learning In Reinforcment Learning"
   ]
  },
  {
   "cell_type": "code",
   "execution_count": 1,
   "id": "24f10d2a",
   "metadata": {},
   "outputs": [],
   "source": [
    "import random\n",
    "from typing import List"
   ]
  },
  {
   "cell_type": "markdown",
   "id": "91a57ad0",
   "metadata": {},
   "source": [
    "Enviornment"
   ]
  },
  {
   "cell_type": "code",
   "execution_count": 2,
   "id": "18f79251",
   "metadata": {},
   "outputs": [],
   "source": [
    "class SampleEnvironment:\n",
    "    def __init__(self):\n",
    "        self.steps_left = 20\n",
    "    \n",
    "    def get_observation(self) -> List[float]:\n",
    "        return [0.0,0.0,0.0]\n",
    "    \n",
    "    def get_actions(self) -> List[int]:\n",
    "        return [0,1]\n",
    "    \n",
    "    def is_done(self) -> bool:\n",
    "        return self.steps_left ==0\n",
    "\n",
    "    def action(self,action: int) -> float:\n",
    "        if self.is_done():\n",
    "            raise Exception(\"Game is Over\")\n",
    "        self.steps_left -=1\n",
    "        return random.random()\n",
    "        "
   ]
  },
  {
   "cell_type": "markdown",
   "id": "02adb1dd",
   "metadata": {},
   "source": [
    "Agent"
   ]
  },
  {
   "cell_type": "code",
   "execution_count": 16,
   "id": "26074f55",
   "metadata": {},
   "outputs": [],
   "source": [
    "class Agent :\n",
    "    def __init__(self):\n",
    "        self.total_reward = 0.0\n",
    "        \n",
    "    def step(self,env:SampleEnvironment):\n",
    "        current_obs = env.get_observation()\n",
    "        print(\"Observation{}\".format(current_obs))\n",
    "        actions =env.get_actions()\n",
    "        print(actions)\n",
    "        reward = env.action(random.choice(actions))\n",
    "        self.total_reward += reward\n",
    "        print(\"Total Reward {}\".format(self.total_reward))\n"
   ]
  },
  {
   "cell_type": "code",
   "execution_count": 19,
   "id": "e2667a2a",
   "metadata": {},
   "outputs": [
    {
     "name": "stdout",
     "output_type": "stream",
     "text": [
      "<built-in method format of str object at 0x0000021586ABFF30>\n",
      "Observation[0.0, 0.0, 0.0]\n",
      "[0, 1]\n",
      "Total Reward 0.28085117894390244\n",
      "<built-in method format of str object at 0x0000021586ABFF30>\n",
      "Observation[0.0, 0.0, 0.0]\n",
      "[0, 1]\n",
      "Total Reward 1.2201210361866197\n",
      "<built-in method format of str object at 0x0000021586ABFF30>\n",
      "Observation[0.0, 0.0, 0.0]\n",
      "[0, 1]\n",
      "Total Reward 1.6703588216237488\n",
      "<built-in method format of str object at 0x0000021586ABFF30>\n",
      "Observation[0.0, 0.0, 0.0]\n",
      "[0, 1]\n",
      "Total Reward 2.46083456621165\n",
      "<built-in method format of str object at 0x0000021586ABFF30>\n",
      "Observation[0.0, 0.0, 0.0]\n",
      "[0, 1]\n",
      "Total Reward 2.554673477683669\n",
      "<built-in method format of str object at 0x0000021586ABFF30>\n",
      "Observation[0.0, 0.0, 0.0]\n",
      "[0, 1]\n",
      "Total Reward 3.1744200858279807\n",
      "<built-in method format of str object at 0x0000021586ABFF30>\n",
      "Observation[0.0, 0.0, 0.0]\n",
      "[0, 1]\n",
      "Total Reward 3.5519955612363043\n",
      "<built-in method format of str object at 0x0000021586ABFF30>\n",
      "Observation[0.0, 0.0, 0.0]\n",
      "[0, 1]\n",
      "Total Reward 3.8529074282428315\n",
      "<built-in method format of str object at 0x0000021586ABFF30>\n",
      "Observation[0.0, 0.0, 0.0]\n",
      "[0, 1]\n",
      "Total Reward 4.197360903997818\n",
      "<built-in method format of str object at 0x0000021586ABFF30>\n",
      "Observation[0.0, 0.0, 0.0]\n",
      "[0, 1]\n",
      "Total Reward 4.513892872231523\n",
      "<built-in method format of str object at 0x0000021586ABFF30>\n",
      "Observation[0.0, 0.0, 0.0]\n",
      "[0, 1]\n",
      "Total Reward 4.598018905193052\n",
      "<built-in method format of str object at 0x0000021586ABFF30>\n",
      "Observation[0.0, 0.0, 0.0]\n",
      "[0, 1]\n",
      "Total Reward 5.006913418313065\n",
      "<built-in method format of str object at 0x0000021586ABFF30>\n",
      "Observation[0.0, 0.0, 0.0]\n",
      "[0, 1]\n",
      "Total Reward 5.190730827455583\n",
      "<built-in method format of str object at 0x0000021586ABFF30>\n",
      "Observation[0.0, 0.0, 0.0]\n",
      "[0, 1]\n",
      "Total Reward 5.554469918369942\n",
      "<built-in method format of str object at 0x0000021586ABFF30>\n",
      "Observation[0.0, 0.0, 0.0]\n",
      "[0, 1]\n",
      "Total Reward 5.894715905262193\n",
      "<built-in method format of str object at 0x0000021586ABFF30>\n",
      "Observation[0.0, 0.0, 0.0]\n",
      "[0, 1]\n",
      "Total Reward 5.943839394592121\n",
      "<built-in method format of str object at 0x0000021586ABFF30>\n",
      "Observation[0.0, 0.0, 0.0]\n",
      "[0, 1]\n",
      "Total Reward 6.577658399828995\n",
      "<built-in method format of str object at 0x0000021586ABFF30>\n",
      "Observation[0.0, 0.0, 0.0]\n",
      "[0, 1]\n",
      "Total Reward 7.475983892430658\n",
      "<built-in method format of str object at 0x0000021586ABFF30>\n",
      "Observation[0.0, 0.0, 0.0]\n",
      "[0, 1]\n",
      "Total Reward 8.26389106469432\n",
      "<built-in method format of str object at 0x0000021586ABFF30>\n",
      "Observation[0.0, 0.0, 0.0]\n",
      "[0, 1]\n",
      "Total Reward 9.185047975484693\n",
      "Total reward got : 9.1850\n"
     ]
    }
   ],
   "source": [
    "if __name__==\"__main__\":\n",
    "    env = SampleEnvironment()\n",
    "    i=0\n",
    "    agent=Agent()\n",
    "\n",
    "    while not env.is_done():\n",
    "        i=i+1\n",
    "        print(\"Steps {}\".format)\n",
    "        agent.step(env)\n",
    "\n",
    "    print(\"Total reward got : %.4f\" % agent.total_reward)"
   ]
  },
  {
   "cell_type": "code",
   "execution_count": null,
   "id": "a62ebb98",
   "metadata": {},
   "outputs": [],
   "source": []
  }
 ],
 "metadata": {
  "kernelspec": {
   "display_name": "base",
   "language": "python",
   "name": "python3"
  },
  "language_info": {
   "codemirror_mode": {
    "name": "ipython",
    "version": 3
   },
   "file_extension": ".py",
   "mimetype": "text/x-python",
   "name": "python",
   "nbconvert_exporter": "python",
   "pygments_lexer": "ipython3",
   "version": "3.12.9"
  }
 },
 "nbformat": 4,
 "nbformat_minor": 5
}
