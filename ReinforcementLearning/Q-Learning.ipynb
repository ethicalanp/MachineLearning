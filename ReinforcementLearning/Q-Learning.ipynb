{
 "cells": [
  {
   "cell_type": "markdown",
   "id": "14f24200",
   "metadata": {},
   "source": [
    "Q-learning In Reinforcment Learning"
   ]
  },
  {
   "cell_type": "code",
   "execution_count": 1,
   "id": "24f10d2a",
   "metadata": {},
   "outputs": [],
   "source": [
    "import random\n",
    "from typing import List"
   ]
  },
  {
   "cell_type": "markdown",
   "id": "91a57ad0",
   "metadata": {},
   "source": [
    "Enviornment"
   ]
  },
  {
   "cell_type": "code",
   "execution_count": 2,
   "id": "18f79251",
   "metadata": {},
   "outputs": [],
   "source": [
    "class SampleEnvironment:\n",
    "    def __init__(self):\n",
    "        self.steps_left = 20\n",
    "    \n",
    "    def get_observation(self) -> List[float]:\n",
    "        return [0.0,0.0,0.0]\n",
    "    \n",
    "    def get_actions(self) -> List[int]:\n",
    "        return [0,1]\n",
    "    \n",
    "    def is_done(self) -> bool:\n",
    "        return self.steps_left ==0\n",
    "\n",
    "    def action(self,action: int) -> float:\n",
    "        if self.is_done():\n",
    "            raise Exception(\"Game is Over\")\n",
    "        self.steps_left -=1\n",
    "        return random.random()\n",
    "        "
   ]
  },
  {
   "cell_type": "markdown",
   "id": "02adb1dd",
   "metadata": {},
   "source": [
    "Agent"
   ]
  },
  {
   "cell_type": "code",
   "execution_count": 3,
   "id": "26074f55",
   "metadata": {},
   "outputs": [],
   "source": [
    "class Agent :\n",
    "    def __int__(self):\n",
    "        self.total_reward = 0.0\n",
    "        \n",
    "    def step(self,env:SampleEnvironment):\n",
    "        current_obs = env.get_observation()\n",
    "        print(current_obs)\n",
    "        actions =env.get_actions()\n",
    "        print(actions)\n",
    "        reward = env.action(random.choice(actions))\n",
    "        self.total_reward += reward\n"
   ]
  },
  {
   "cell_type": "code",
   "execution_count": 9,
   "id": "e2667a2a",
   "metadata": {},
   "outputs": [
    {
     "name": "stdout",
     "output_type": "stream",
     "text": [
      "[0.0, 0.0, 0.0]\n",
      "[0, 1]\n"
     ]
    },
    {
     "ename": "AttributeError",
     "evalue": "'Agent' object has no attribute 'total_reward'",
     "output_type": "error",
     "traceback": [
      "\u001b[31m---------------------------------------------------------------------------\u001b[39m",
      "\u001b[31mAttributeError\u001b[39m                            Traceback (most recent call last)",
      "\u001b[36mCell\u001b[39m\u001b[36m \u001b[39m\u001b[32mIn[9]\u001b[39m\u001b[32m, line 6\u001b[39m\n\u001b[32m      3\u001b[39m     agent=Agent()\n\u001b[32m      5\u001b[39m \u001b[38;5;28;01mwhile\u001b[39;00m \u001b[38;5;129;01mnot\u001b[39;00m env.is_done():\n\u001b[32m----> \u001b[39m\u001b[32m6\u001b[39m     agent.step(env)\n\u001b[32m      8\u001b[39m \u001b[38;5;28mprint\u001b[39m(\u001b[33m\"\u001b[39m\u001b[33mTotal reward got : \u001b[39m\u001b[38;5;132;01m%.4f\u001b[39;00m\u001b[33m\"\u001b[39m % agent.total_reward)\n",
      "\u001b[36mCell\u001b[39m\u001b[36m \u001b[39m\u001b[32mIn[3]\u001b[39m\u001b[32m, line 11\u001b[39m, in \u001b[36mAgent.step\u001b[39m\u001b[34m(self, env)\u001b[39m\n\u001b[32m      9\u001b[39m \u001b[38;5;28mprint\u001b[39m(actions)\n\u001b[32m     10\u001b[39m reward = env.action(random.choice(actions))\n\u001b[32m---> \u001b[39m\u001b[32m11\u001b[39m \u001b[38;5;28mself\u001b[39m.total_reward += reward\n",
      "\u001b[31mAttributeError\u001b[39m: 'Agent' object has no attribute 'total_reward'"
     ]
    }
   ],
   "source": [
    "if __name__==\"__main__\":\n",
    "    env = SampleEnvironment()\n",
    "    agent=Agent()\n",
    "\n",
    "while not env.is_done():\n",
    "    agent.step(env)\n",
    "\n",
    "print(\"Total reward got : %.4f\" % agent.total_reward)"
   ]
  },
  {
   "cell_type": "code",
   "execution_count": null,
   "id": "a62ebb98",
   "metadata": {},
   "outputs": [],
   "source": []
  }
 ],
 "metadata": {
  "kernelspec": {
   "display_name": "base",
   "language": "python",
   "name": "python3"
  },
  "language_info": {
   "codemirror_mode": {
    "name": "ipython",
    "version": 3
   },
   "file_extension": ".py",
   "mimetype": "text/x-python",
   "name": "python",
   "nbconvert_exporter": "python",
   "pygments_lexer": "ipython3",
   "version": "3.12.9"
  }
 },
 "nbformat": 4,
 "nbformat_minor": 5
}
